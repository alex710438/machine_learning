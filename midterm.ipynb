import cv2,os,re
import tensorflow
from tensorflow import keras
import numpy as np

label_dict=['青竹絲','龜殼花','雨傘節','鎖蛇','海蛇']


train_img_amount = len(os.listdir('drive/MyDrive/train'))
test_img_amount = len(os.listdir('drive/MyDrive/test'))


##### 原設定圖片大小為32x32
x_train=np.empty((train_img_amount,128,128,3), dtype="uint8")
y_train=np.empty((train_img_amount,1), dtype="uint8")
x_test=np.empty((test_img_amount,128,128,3), dtype="uint8")
y_test=np.empty((test_img_amount,1), dtype="uint8")

i=0
for img_num in os.listdir('drive/MyDrive/train'):
  img = cv2.imread('drive/MyDrive/train/'+img_num)
  if os.path.isfile('drive/MyDrive/train/'+img_num):
    x_train[i] = img
    img_label = int(img_num.split('.',1)[0])
    y_train[i] = img_label
    i+=1

i=0
for img_num in os.listdir('drive/MyDrive/test'):
  img = cv2.imread('drive/MyDrive/test/'+img_num)
  if os.path.isfile('drive/MyDrive/test/'+img_num):
    x_test[i] = img
    img_label = int(img_num.split('.',1)[0])
    y_test[i] = img_label
    i+=1

print("train data:",'images:',x_train.shape," labels:",y_train.shape) 
print("test data:",'images:',x_test.shape," labels:",y_test.shape) 




##### training
epoch = 20
x_train_normalize = np.array(x_train) / 255.0
x_test_normalize = np.array(x_test) / 255.0

# shuffle
permutation = np.random.permutation(x_train.shape[0])
x_train_shuffle = x_train_normalize[permutation]
y_train_shuffle = y_train[permutation]

# one-hot encoding
y_train_OneHot = tensorflow.keras.utils.to_categorical(y_train_shuffle-1,num_classes=5)
y_test_OneHot = tensorflow.keras.utils.to_categorical(y_test-1,num_classes=5)

##################################################
##################################################
##################################################

# 建立模型
from keras.models import Sequential
from keras.layers import Dense, Dropout, Activation, Flatten
from keras.layers import Conv2D, MaxPooling2D, ZeroPadding2D

model = Sequential()

##### 原設定圖片大小為32x32
# model.add(Conv2D(filters=64, kernel_size=(3, 3),
#                  input_shape=(128, 128, 3),
#                  activation='relu',
#                  padding='same'))

model.add(Conv2D(filters=64, kernel_size=(3, 3),
                 input_shape=(128, 128, 3),
                 activation='relu',
                 padding='same'))
model.add(MaxPooling2D(pool_size=(3, 3)))
model.add(Dropout(0.15))
model.add(Conv2D(filters=64, kernel_size=(3, 3),
                 activation='relu', padding='same'))
model.add(MaxPooling2D(pool_size=(3, 3)))
model.add(Dropout(0.15))


# 建立神經網路(平坦層、隱藏層、輸出層)
model.add(Flatten())
model.add(Dense(512, activation='relu'))
model.add(Dropout(0.5))
model.add(Dense(512, activation='relu'))
model.add(Dropout(0.5))
model.add(Dense(512, activation='relu'))
model.add(Dropout(0.5))
model.add(Dense(5, activation='softmax'))

print(model.summary())


from keras.optimizers import adam
model.compile(loss='categorical_crossentropy',optimizer='adam', metrics=['acc'])

train_history=model.fit(x_train_shuffle, y_train_OneHot,
                        epochs=epoch, batch_size=128, verbose=1,
                        validation_data = (x_test_normalize, y_test_OneHot))





import matplotlib.pyplot as plt
def show_train_history(train_acc,test_acc):
    plt.figure(figsize=(5, 3))
    plt.plot(train_history.history[train_acc])
    plt.plot(train_history.history[test_acc])
    plt.title('Train History')
    if train_acc == 'acc':
        plt.ylabel('Accuracy')
    else:
        plt.ylabel('Loss')
    plt.xlabel('Epoch')
    plt.legend(['train', 'test'], loc='upper left')

    plt.show()

show_train_history('acc','val_acc')
show_train_history('loss','val_loss')



# 評估模型準確率
train_scores = model.evaluate(x_train_shuffle,  y_train_OneHot, verbose=0)
 
print("train acc : ",train_scores[1])
print("train loss : ",train_scores[0])

scores = model.evaluate(x_test_normalize,  y_test_OneHot, verbose=0)
print("test acc : ",scores[1])
print("test loss : ",scores[0])
